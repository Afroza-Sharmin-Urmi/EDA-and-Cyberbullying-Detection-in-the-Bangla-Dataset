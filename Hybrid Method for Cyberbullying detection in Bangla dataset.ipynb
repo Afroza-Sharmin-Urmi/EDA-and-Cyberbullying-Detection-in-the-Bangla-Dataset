{
 "cells": [
  {
   "cell_type": "markdown",
   "id": "898ac0aa",
   "metadata": {},
   "source": [
    "# Hybrid Ensemble Method in Bangla Bully Detection "
   ]
  },
  {
   "cell_type": "markdown",
   "id": "a80fbe76",
   "metadata": {},
   "source": [
    "## Importing Libraries"
   ]
  },
  {
   "cell_type": "code",
   "execution_count": 1,
   "id": "e03ff208",
   "metadata": {},
   "outputs": [],
   "source": [
    "import re\n",
    "import numpy as np\n",
    "import pandas as pd\n",
    "import seaborn as sns\n",
    "import tensorflow as tf\n",
    "from tensorflow import keras\n",
    "import matplotlib.pyplot as plt\n",
    "from sklearn.preprocessing import StandardScaler\n",
    "from sklearn.model_selection import train_test_split\n",
    "from sklearn.model_selection import GridSearchCV\n",
    "from sklearn import metrics\n",
    "#from imblearn.over_sampling import SMOTE  # imblearn library can be installed using pip install imblearn\n",
    "from sklearn.svm import SVC\n",
    "from sklearn.linear_model import LogisticRegression\n",
    "from sklearn.neighbors import KNeighborsClassifier\n",
    "from sklearn.preprocessing import StandardScaler\n",
    "from sklearn.metrics import classification_report, confusion_matrix\n",
    "import plotly.graph_objs as go\n",
    "import plotly .offline as offline\n",
    "import plotly.figure_factory as ff"
   ]
  },
  {
   "cell_type": "markdown",
   "id": "5384c3a1",
   "metadata": {},
   "source": [
    "## Importing dataset, Performing primary analysis and pre-processing"
   ]
  },
  {
   "cell_type": "code",
   "execution_count": 2,
   "id": "ebd2516d",
   "metadata": {},
   "outputs": [
    {
     "data": {
      "text/html": [
       "<div>\n",
       "<style scoped>\n",
       "    .dataframe tbody tr th:only-of-type {\n",
       "        vertical-align: middle;\n",
       "    }\n",
       "\n",
       "    .dataframe tbody tr th {\n",
       "        vertical-align: top;\n",
       "    }\n",
       "\n",
       "    .dataframe thead th {\n",
       "        text-align: right;\n",
       "    }\n",
       "</style>\n",
       "<table border=\"1\" class=\"dataframe\">\n",
       "  <thead>\n",
       "    <tr style=\"text-align: right;\">\n",
       "      <th></th>\n",
       "      <th>channel</th>\n",
       "      <th>video title</th>\n",
       "      <th>video Description</th>\n",
       "      <th>video ID</th>\n",
       "      <th>comment</th>\n",
       "      <th>commnet ID</th>\n",
       "      <th>Replies</th>\n",
       "      <th>Likes</th>\n",
       "      <th>Class</th>\n",
       "      <th>Gender</th>\n",
       "      <th>length</th>\n",
       "    </tr>\n",
       "  </thead>\n",
       "  <tbody>\n",
       "    <tr>\n",
       "      <th>10508</th>\n",
       "      <td>NahidRains</td>\n",
       "      <td>আজহারীর যত কুকান্ড ! #NahidRains</td>\n",
       "      <td>New Channel: The NahidRains Show - https://www...</td>\n",
       "      <td>oTx0q3st1O0</td>\n",
       "      <td>সবই বুঝলাম ভাই। ধন্যবাদ এরকম একটা তথ্যবহুল ভিড...</td>\n",
       "      <td>UgypI6TGzAoog4ywMpl4AaABAg</td>\n",
       "      <td>0</td>\n",
       "      <td>0</td>\n",
       "      <td>Not bully</td>\n",
       "      <td>Male</td>\n",
       "      <td>442</td>\n",
       "    </tr>\n",
       "    <tr>\n",
       "      <th>10509</th>\n",
       "      <td>NahidRains</td>\n",
       "      <td>আজহারীর যত কুকান্ড ! #NahidRains</td>\n",
       "      <td>New Channel: The NahidRains Show - https://www...</td>\n",
       "      <td>oTx0q3st1O0</td>\n",
       "      <td>তারে বেসি কইরা গাইল্লান 😠😠😠😠</td>\n",
       "      <td>UgwJJVtaZIeM8BLpX2J4AaABAg</td>\n",
       "      <td>0</td>\n",
       "      <td>1</td>\n",
       "      <td>Gibe</td>\n",
       "      <td>Male</td>\n",
       "      <td>28</td>\n",
       "    </tr>\n",
       "    <tr>\n",
       "      <th>10510</th>\n",
       "      <td>NahidRains</td>\n",
       "      <td>আজহারীর যত কুকান্ড ! #NahidRains</td>\n",
       "      <td>New Channel: The NahidRains Show - https://www...</td>\n",
       "      <td>oTx0q3st1O0</td>\n",
       "      <td>মজা পাইলাম</td>\n",
       "      <td>Ugy4TJSVFaFA9n84_sd4AaABAg</td>\n",
       "      <td>0</td>\n",
       "      <td>0</td>\n",
       "      <td>Not bully</td>\n",
       "      <td>Male</td>\n",
       "      <td>10</td>\n",
       "    </tr>\n",
       "    <tr>\n",
       "      <th>10511</th>\n",
       "      <td>NahidRains</td>\n",
       "      <td>আজহারীর যত কুকান্ড ! #NahidRains</td>\n",
       "      <td>New Channel: The NahidRains Show - https://www...</td>\n",
       "      <td>oTx0q3st1O0</td>\n",
       "      <td>ধরে নিলাম গাড়িটি মিজানুর রহমান আজহারীর। \\nএবং ...</td>\n",
       "      <td>UgyJ9GaSLIpV5Kmyh4x4AaABAg</td>\n",
       "      <td>0</td>\n",
       "      <td>0</td>\n",
       "      <td>Religious</td>\n",
       "      <td>Male</td>\n",
       "      <td>2879</td>\n",
       "    </tr>\n",
       "    <tr>\n",
       "      <th>10512</th>\n",
       "      <td>NahidRains</td>\n",
       "      <td>আজহারীর যত কুকান্ড ! #NahidRains</td>\n",
       "      <td>New Channel: The NahidRains Show - https://www...</td>\n",
       "      <td>oTx0q3st1O0</td>\n",
       "      <td>এজন্যই বলা হয়ে থাকে অল্প বিদ্যা ভয়ংকর। ইসলামী ...</td>\n",
       "      <td>Ugzz54dBRLExKhIOZvt4AaABAg</td>\n",
       "      <td>0</td>\n",
       "      <td>0</td>\n",
       "      <td>Religious</td>\n",
       "      <td>Male</td>\n",
       "      <td>701</td>\n",
       "    </tr>\n",
       "  </tbody>\n",
       "</table>\n",
       "</div>"
      ],
      "text/plain": [
       "          channel                       video title  \\\n",
       "10508  NahidRains  আজহারীর যত কুকান্ড ! #NahidRains   \n",
       "10509  NahidRains  আজহারীর যত কুকান্ড ! #NahidRains   \n",
       "10510  NahidRains  আজহারীর যত কুকান্ড ! #NahidRains   \n",
       "10511  NahidRains  আজহারীর যত কুকান্ড ! #NahidRains   \n",
       "10512  NahidRains  আজহারীর যত কুকান্ড ! #NahidRains   \n",
       "\n",
       "                                       video Description     video ID  \\\n",
       "10508  New Channel: The NahidRains Show - https://www...  oTx0q3st1O0   \n",
       "10509  New Channel: The NahidRains Show - https://www...  oTx0q3st1O0   \n",
       "10510  New Channel: The NahidRains Show - https://www...  oTx0q3st1O0   \n",
       "10511  New Channel: The NahidRains Show - https://www...  oTx0q3st1O0   \n",
       "10512  New Channel: The NahidRains Show - https://www...  oTx0q3st1O0   \n",
       "\n",
       "                                                 comment  \\\n",
       "10508  সবই বুঝলাম ভাই। ধন্যবাদ এরকম একটা তথ্যবহুল ভিড...   \n",
       "10509                       তারে বেসি কইরা গাইল্লান 😠😠😠😠   \n",
       "10510                                         মজা পাইলাম   \n",
       "10511  ধরে নিলাম গাড়িটি মিজানুর রহমান আজহারীর। \\nএবং ...   \n",
       "10512  এজন্যই বলা হয়ে থাকে অল্প বিদ্যা ভয়ংকর। ইসলামী ...   \n",
       "\n",
       "                       commnet ID  Replies  Likes      Class Gender  length  \n",
       "10508  UgypI6TGzAoog4ywMpl4AaABAg        0      0  Not bully   Male     442  \n",
       "10509  UgwJJVtaZIeM8BLpX2J4AaABAg        0      1       Gibe   Male      28  \n",
       "10510  Ugy4TJSVFaFA9n84_sd4AaABAg        0      0  Not bully   Male      10  \n",
       "10511  UgyJ9GaSLIpV5Kmyh4x4AaABAg        0      0  Religious   Male    2879  \n",
       "10512  Ugzz54dBRLExKhIOZvt4AaABAg        0      0  Religious   Male     701  "
      ]
     },
     "execution_count": 2,
     "metadata": {},
     "output_type": "execute_result"
    }
   ],
   "source": [
    "data=pd.read_excel('Bangla Dataset.xlsx')\n",
    "pd.set_option('display.max_colwidth', 50)\n",
    "data['length']=data['comment'].apply(len)\n",
    "data.channel.value_counts()\n",
    "data.tail(5)"
   ]
  },
  {
   "cell_type": "code",
   "execution_count": 3,
   "id": "9ffde602",
   "metadata": {},
   "outputs": [],
   "source": [
    "data = data.drop([\"channel\", \"video title\", \"video Description\", \"video ID\", \"commnet ID\", \"Replies\", \"Likes\", \"length\"], axis=1)"
   ]
  },
  {
   "cell_type": "code",
   "execution_count": 4,
   "id": "5a45aca6",
   "metadata": {},
   "outputs": [
    {
     "name": "stdout",
     "output_type": "stream",
     "text": [
      "                                             comment      Class  Gender\n",
      "0  বাংলাদেশের পচা মাল ভারতে রপ্তানি করে বাংলাদেশ ...       Gibe  Female\n",
      "1       তোর মত বেশ‍্যা কে ত‍্যাগ করে ভাল আছে তাহসান।     Sexual  Female\n",
      "2  ভারতকে এই প্রথম কোনকিছু দিয়ে ঠকাতে  পারল বাংলা...  Triggered  Female\n",
      "3  মিথিলা বলে সৃজিত নাকি ওর বাবা তাহলে বাবা আর মে...       Gibe  Female\n",
      "4  তাহসানের উচিত তার মেয়ে কে এদের সাথে মিশতে না দ...  Triggered  Female\n",
      "(10513, 3)\n",
      "<class 'pandas.core.frame.DataFrame'>\n",
      "RangeIndex: 10513 entries, 0 to 10512\n",
      "Data columns (total 3 columns):\n",
      " #   Column   Non-Null Count  Dtype \n",
      "---  ------   --------------  ----- \n",
      " 0   comment  10513 non-null  object\n",
      " 1   Class    10512 non-null  object\n",
      " 2   Gender   10513 non-null  object\n",
      "dtypes: object(3)\n",
      "memory usage: 246.5+ KB\n",
      "None\n",
      "       comment      Class Gender\n",
      "count    10513      10512  10513\n",
      "unique   10409          5      4\n",
      "top      ফালতু  Not bully   Male\n",
      "freq         9       4197   6690\n"
     ]
    }
   ],
   "source": [
    "print(data.head())\n",
    "print(data.shape)\n",
    "print(data.info())\n",
    "print(data.describe())"
   ]
  },
  {
   "cell_type": "code",
   "execution_count": 5,
   "id": "2e1a3f6e",
   "metadata": {},
   "outputs": [
    {
     "data": {
      "text/plain": [
       "0    বাংলাদেশের পচা মাল ভারতে রপ্তানি করে বাংলাদেশ ...\n",
       "1           তোর মত বেশ্যা কে ত্যাগ করে ভাল আছে তাহসান।\n",
       "2    ভারতকে এই প্রথম কোনকিছু দিয়ে ঠকাতে  পারল বাংলা...\n",
       "3    মিথিলা বলে সৃজিত নাকি ওর বাবা তাহলে বাবা আর মে...\n",
       "4    তাহসানের উচিত তার মেয়ে কে এদের সাথে মিশতে না দ...\n",
       "Name: comment, dtype: object"
      ]
     },
     "execution_count": 5,
     "metadata": {},
     "output_type": "execute_result"
    }
   ],
   "source": [
    "import re\n",
    "import string \n",
    "def remove_foreignWord(string):\n",
    "    No_ForeignWord = \"\".join([i for i in string if i in [\".\",\"।\"] or 2432 <= ord(i) <= 2559 or ord(i)== 32])\n",
    "    return No_ForeignWord\n",
    "\n",
    "data['comment'] = data['comment'].apply(lambda string: remove_foreignWord(string))\n",
    "data['comment'].head()"
   ]
  },
  {
   "cell_type": "code",
   "execution_count": 6,
   "id": "a4c30452",
   "metadata": {},
   "outputs": [
    {
     "data": {
      "text/html": [
       "<div>\n",
       "<style scoped>\n",
       "    .dataframe tbody tr th:only-of-type {\n",
       "        vertical-align: middle;\n",
       "    }\n",
       "\n",
       "    .dataframe tbody tr th {\n",
       "        vertical-align: top;\n",
       "    }\n",
       "\n",
       "    .dataframe thead th {\n",
       "        text-align: right;\n",
       "    }\n",
       "</style>\n",
       "<table border=\"1\" class=\"dataframe\">\n",
       "  <thead>\n",
       "    <tr style=\"text-align: right;\">\n",
       "      <th></th>\n",
       "      <th>comment</th>\n",
       "      <th>Class</th>\n",
       "      <th>Gender</th>\n",
       "    </tr>\n",
       "  </thead>\n",
       "  <tbody>\n",
       "    <tr>\n",
       "      <th>0</th>\n",
       "      <td>বাংলাদেশের পচা মাল ভারতে রপ্তানি করে বাংলাদেশ ...</td>\n",
       "      <td>Gibe</td>\n",
       "      <td>Female</td>\n",
       "    </tr>\n",
       "    <tr>\n",
       "      <th>1</th>\n",
       "      <td>তোর মত বেশ্যা কে ত্যাগ করে ভাল আছে তাহসান।</td>\n",
       "      <td>Sexual</td>\n",
       "      <td>Female</td>\n",
       "    </tr>\n",
       "    <tr>\n",
       "      <th>2</th>\n",
       "      <td>ভারতকে এই প্রথম কোনকিছু দিয়ে ঠকাতে  পারল বাংলা...</td>\n",
       "      <td>Triggered</td>\n",
       "      <td>Female</td>\n",
       "    </tr>\n",
       "    <tr>\n",
       "      <th>3</th>\n",
       "      <td>মিথিলা বলে সৃজিত নাকি ওর বাবা তাহলে বাবা আর মে...</td>\n",
       "      <td>Gibe</td>\n",
       "      <td>Female</td>\n",
       "    </tr>\n",
       "    <tr>\n",
       "      <th>4</th>\n",
       "      <td>তাহসানের উচিত তার মেয়ে কে এদের সাথে মিশতে না দ...</td>\n",
       "      <td>Triggered</td>\n",
       "      <td>Female</td>\n",
       "    </tr>\n",
       "  </tbody>\n",
       "</table>\n",
       "</div>"
      ],
      "text/plain": [
       "                                             comment      Class  Gender\n",
       "0  বাংলাদেশের পচা মাল ভারতে রপ্তানি করে বাংলাদেশ ...       Gibe  Female\n",
       "1         তোর মত বেশ্যা কে ত্যাগ করে ভাল আছে তাহসান।     Sexual  Female\n",
       "2  ভারতকে এই প্রথম কোনকিছু দিয়ে ঠকাতে  পারল বাংলা...  Triggered  Female\n",
       "3  মিথিলা বলে সৃজিত নাকি ওর বাবা তাহলে বাবা আর মে...       Gibe  Female\n",
       "4  তাহসানের উচিত তার মেয়ে কে এদের সাথে মিশতে না দ...  Triggered  Female"
      ]
     },
     "execution_count": 6,
     "metadata": {},
     "output_type": "execute_result"
    }
   ],
   "source": [
    "import string \n",
    "string.punctuation\n",
    "def remove_punctuation(txt):\n",
    "    txt_nopunct = \"\".join([c for c in txt if c not in string.punctuation])\n",
    "    return txt_nopunct\n",
    "data['comment'] = data['comment'].apply(lambda txt: remove_punctuation(txt))\n",
    "data.head()"
   ]
  },
  {
   "cell_type": "code",
   "execution_count": 7,
   "id": "c319ff07",
   "metadata": {},
   "outputs": [
    {
     "data": {
      "text/plain": [
       "0    বাংলাদেশের পচা মাল ভারতে রপ্তানি করে বাংলাদেশ ...\n",
       "1           তোর মত বেশ্যা কে ত্যাগ করে ভাল আছে তাহসান।\n",
       "2    ভারতকে এই প্রথম কোনকিছু দিয়ে ঠকাতে  পারল বাংলা...\n",
       "3    মিথিলা বলে সৃজিত নাকি ওর বাবা তাহলে বাবা আর মে...\n",
       "4    তাহসানের উচিত তার মেয়ে কে এদের সাথে মিশতে না দ...\n",
       "Name: comment, dtype: object"
      ]
     },
     "execution_count": 7,
     "metadata": {},
     "output_type": "execute_result"
    }
   ],
   "source": [
    "import re\n",
    "import string \n",
    "def remove_foreignWord(string):\n",
    "    No_ForeignWord = \"\".join([i for i in string if i in [\".\",\"।\"] or 2432 <= ord(i) <= 2559 or ord(i)== 32])\n",
    "    return No_ForeignWord\n",
    "\n",
    "data['comment'] = data['comment'].apply(lambda string: remove_foreignWord(string))\n",
    "data['comment'].head()"
   ]
  },
  {
   "cell_type": "code",
   "execution_count": 8,
   "id": "bdf3814b",
   "metadata": {},
   "outputs": [
    {
     "name": "stderr",
     "output_type": "stream",
     "text": [
      "C:\\Users\\User\\AppData\\Local\\Temp/ipykernel_11348/4258004544.py:2: FutureWarning:\n",
      "\n",
      "The default value of regex will change from True to False in a future version.\n",
      "\n"
     ]
    },
    {
     "data": {
      "text/html": [
       "<div>\n",
       "<style scoped>\n",
       "    .dataframe tbody tr th:only-of-type {\n",
       "        vertical-align: middle;\n",
       "    }\n",
       "\n",
       "    .dataframe tbody tr th {\n",
       "        vertical-align: top;\n",
       "    }\n",
       "\n",
       "    .dataframe thead th {\n",
       "        text-align: right;\n",
       "    }\n",
       "</style>\n",
       "<table border=\"1\" class=\"dataframe\">\n",
       "  <thead>\n",
       "    <tr style=\"text-align: right;\">\n",
       "      <th></th>\n",
       "      <th>comment</th>\n",
       "      <th>Class</th>\n",
       "      <th>Gender</th>\n",
       "    </tr>\n",
       "  </thead>\n",
       "  <tbody>\n",
       "    <tr>\n",
       "      <th>0</th>\n",
       "      <td>বাংলাদেশের পচা মাল ভারতে রপ্তানি করে বাংলাদেশ ...</td>\n",
       "      <td>Gibe</td>\n",
       "      <td>Female</td>\n",
       "    </tr>\n",
       "    <tr>\n",
       "      <th>1</th>\n",
       "      <td>তোর মত বেশ্যা কে ত্যাগ করে ভাল আছে তাহসান।</td>\n",
       "      <td>Sexual</td>\n",
       "      <td>Female</td>\n",
       "    </tr>\n",
       "    <tr>\n",
       "      <th>2</th>\n",
       "      <td>ভারতকে এই প্রথম কোনকিছু দিয়ে ঠকাতে পারল বাংলাদেশ।</td>\n",
       "      <td>Triggered</td>\n",
       "      <td>Female</td>\n",
       "    </tr>\n",
       "    <tr>\n",
       "      <th>3</th>\n",
       "      <td>মিথিলা বলে সৃজিত নাকি ওর বাবা তাহলে বাবা আর মে...</td>\n",
       "      <td>Gibe</td>\n",
       "      <td>Female</td>\n",
       "    </tr>\n",
       "    <tr>\n",
       "      <th>4</th>\n",
       "      <td>তাহসানের উচিত তার মেয়ে কে এদের সাথে মিশতে না দ...</td>\n",
       "      <td>Triggered</td>\n",
       "      <td>Female</td>\n",
       "    </tr>\n",
       "  </tbody>\n",
       "</table>\n",
       "</div>"
      ],
      "text/plain": [
       "                                             comment      Class  Gender\n",
       "0  বাংলাদেশের পচা মাল ভারতে রপ্তানি করে বাংলাদেশ ...       Gibe  Female\n",
       "1         তোর মত বেশ্যা কে ত্যাগ করে ভাল আছে তাহসান।     Sexual  Female\n",
       "2  ভারতকে এই প্রথম কোনকিছু দিয়ে ঠকাতে পারল বাংলাদেশ।  Triggered  Female\n",
       "3  মিথিলা বলে সৃজিত নাকি ওর বাবা তাহলে বাবা আর মে...       Gibe  Female\n",
       "4  তাহসানের উচিত তার মেয়ে কে এদের সাথে মিশতে না দ...  Triggered  Female"
      ]
     },
     "execution_count": 8,
     "metadata": {},
     "output_type": "execute_result"
    }
   ],
   "source": [
    "data['comment'].replace('http[s]?://(?:[a-zA-Z]|[0-9]|[$-_@.&+]|[!*\\(\\),]|(?:%[0-9a-fA-F][0-9a-fA-F]))+', ' ')\n",
    "data['comment'] = data['comment'].str.replace('http[s]?://(?:[a-zA-Z]|[0-9]|[$-_@.&+]|[!*\\(\\),]|(?:%[0-9a-fA-F][0-9a-fA-F]))+', ' ').str.replace('\\s+', ' ').str.strip()\n",
    "data.head()"
   ]
  },
  {
   "cell_type": "code",
   "execution_count": 9,
   "id": "ea07d0a7",
   "metadata": {},
   "outputs": [],
   "source": [
    "import re\n",
    "def remove_URL(txt):\n",
    "    url = re.compile(r\"https?://\\S+|www\\.\\S+\")\n",
    "    return url.sub(r\"\", txt)\n",
    "\n",
    "def remove_html(txt):\n",
    "    html = re.compile(r\"<.*?>\")\n",
    "    return html.sub(r\"\", txt)"
   ]
  },
  {
   "cell_type": "code",
   "execution_count": 10,
   "id": "c0b1bf70",
   "metadata": {},
   "outputs": [
    {
     "name": "stderr",
     "output_type": "stream",
     "text": [
      "C:\\Users\\User\\AppData\\Local\\Temp/ipykernel_11348/52253161.py:3: FutureWarning:\n",
      "\n",
      "The default value of regex will change from True to False in a future version.\n",
      "\n"
     ]
    },
    {
     "data": {
      "text/html": [
       "<div>\n",
       "<style scoped>\n",
       "    .dataframe tbody tr th:only-of-type {\n",
       "        vertical-align: middle;\n",
       "    }\n",
       "\n",
       "    .dataframe tbody tr th {\n",
       "        vertical-align: top;\n",
       "    }\n",
       "\n",
       "    .dataframe thead th {\n",
       "        text-align: right;\n",
       "    }\n",
       "</style>\n",
       "<table border=\"1\" class=\"dataframe\">\n",
       "  <thead>\n",
       "    <tr style=\"text-align: right;\">\n",
       "      <th></th>\n",
       "      <th>comment</th>\n",
       "      <th>Class</th>\n",
       "      <th>Gender</th>\n",
       "    </tr>\n",
       "  </thead>\n",
       "  <tbody>\n",
       "    <tr>\n",
       "      <th>10508</th>\n",
       "      <td>সবই বুঝলাম ভাই। ধন্যবাদ এরকম একটা তথ্যবহুল ভিড...</td>\n",
       "      <td>Not bully</td>\n",
       "      <td>Male</td>\n",
       "    </tr>\n",
       "    <tr>\n",
       "      <th>10509</th>\n",
       "      <td>তারে বেসি কইরা গাইল্লান</td>\n",
       "      <td>Gibe</td>\n",
       "      <td>Male</td>\n",
       "    </tr>\n",
       "    <tr>\n",
       "      <th>10510</th>\n",
       "      <td>মজা পাইলাম</td>\n",
       "      <td>Not bully</td>\n",
       "      <td>Male</td>\n",
       "    </tr>\n",
       "    <tr>\n",
       "      <th>10511</th>\n",
       "      <td>ধরে নিলাম গাড়িটি মিজানুর রহমান আজহারীর। এবং আপ...</td>\n",
       "      <td>Religious</td>\n",
       "      <td>Male</td>\n",
       "    </tr>\n",
       "    <tr>\n",
       "      <th>10512</th>\n",
       "      <td>এজন্যই বলা হয়ে থাকে অল্প বিদ্যা ভয়ংকর। ইসলামী ...</td>\n",
       "      <td>Religious</td>\n",
       "      <td>Male</td>\n",
       "    </tr>\n",
       "  </tbody>\n",
       "</table>\n",
       "</div>"
      ],
      "text/plain": [
       "                                                 comment      Class Gender\n",
       "10508  সবই বুঝলাম ভাই। ধন্যবাদ এরকম একটা তথ্যবহুল ভিড...  Not bully   Male\n",
       "10509                            তারে বেসি কইরা গাইল্লান       Gibe   Male\n",
       "10510                                         মজা পাইলাম  Not bully   Male\n",
       "10511  ধরে নিলাম গাড়িটি মিজানুর রহমান আজহারীর। এবং আপ...  Religious   Male\n",
       "10512  এজন্যই বলা হয়ে থাকে অল্প বিদ্যা ভয়ংকর। ইসলামী ...  Religious   Male"
      ]
     },
     "execution_count": 10,
     "metadata": {},
     "output_type": "execute_result"
    }
   ],
   "source": [
    "data['comment'] = data['comment'].apply(lambda txt: remove_html(txt))\n",
    "data['comment'].replace('\\n', '')\n",
    "data['comment'] = data['comment'].str.replace('\\n', '').str.replace('\\s+', ' ').str.strip()\n",
    "data.tail()"
   ]
  },
  {
   "cell_type": "code",
   "execution_count": 1,
   "id": "c842e505",
   "metadata": {},
   "outputs": [
    {
     "ename": "NameError",
     "evalue": "name 'data' is not defined",
     "output_type": "error",
     "traceback": [
      "\u001b[1;31m---------------------------------------------------------------------------\u001b[0m",
      "\u001b[1;31mNameError\u001b[0m                                 Traceback (most recent call last)",
      "\u001b[1;32m~\\AppData\\Local\\Temp/ipykernel_5896/1981956858.py\u001b[0m in \u001b[0;36m<module>\u001b[1;34m\u001b[0m\n\u001b[0;32m     13\u001b[0m     )\n\u001b[0;32m     14\u001b[0m     \u001b[1;32mreturn\u001b[0m \u001b[0memoji_pattern\u001b[0m\u001b[1;33m.\u001b[0m\u001b[0msub\u001b[0m\u001b[1;33m(\u001b[0m\u001b[1;34mr\"\"\u001b[0m\u001b[1;33m,\u001b[0m \u001b[0mstring\u001b[0m\u001b[1;33m)\u001b[0m\u001b[1;33m\u001b[0m\u001b[1;33m\u001b[0m\u001b[0m\n\u001b[1;32m---> 15\u001b[1;33m \u001b[0mdata\u001b[0m\u001b[1;33m[\u001b[0m\u001b[1;34m'comment'\u001b[0m\u001b[1;33m]\u001b[0m \u001b[1;33m=\u001b[0m \u001b[0mdata\u001b[0m\u001b[1;33m[\u001b[0m\u001b[1;34m'comment'\u001b[0m\u001b[1;33m]\u001b[0m\u001b[1;33m.\u001b[0m\u001b[0mapply\u001b[0m\u001b[1;33m(\u001b[0m\u001b[1;32mlambda\u001b[0m \u001b[0mstring\u001b[0m\u001b[1;33m:\u001b[0m \u001b[0mremove_emoji\u001b[0m\u001b[1;33m(\u001b[0m\u001b[0mstring\u001b[0m\u001b[1;33m)\u001b[0m\u001b[1;33m)\u001b[0m\u001b[1;33m\u001b[0m\u001b[1;33m\u001b[0m\u001b[0m\n\u001b[0m\u001b[0;32m     16\u001b[0m \u001b[0mdata\u001b[0m\u001b[1;33m.\u001b[0m\u001b[0mtail\u001b[0m\u001b[1;33m(\u001b[0m\u001b[1;33m)\u001b[0m\u001b[1;33m\u001b[0m\u001b[1;33m\u001b[0m\u001b[0m\n",
      "\u001b[1;31mNameError\u001b[0m: name 'data' is not defined"
     ]
    }
   ],
   "source": [
    "def remove_emoji(string):\n",
    "    emoji_pattern  = re.compile(\n",
    "         \"[\"\n",
    "        u\"\\U0001F600-\\U0001F64F\"\n",
    "        u\"\\U0001F300-\\U0001F5FF\"\n",
    "        u\"\\U0001F680-\\U0001F6FF\"\n",
    "        u\"\\U0001F1E0-\\U0001F1FF\"\n",
    "        u\"\\U00002702-\\U00002780\"\n",
    "        u\"\\U000024C2-\\U0001F251\"\n",
    "        \"]+\",\n",
    "        flags = re.UNICODE,\n",
    "          \n",
    "    )\n",
    "    return emoji_pattern.sub(r\"\", string)\n",
    "data['comment'] = data['comment'].apply(lambda string: remove_emoji(string))\n",
    "data.tail()"
   ]
  },
  {
   "cell_type": "code",
   "execution_count": 12,
   "id": "3b3b4cab",
   "metadata": {},
   "outputs": [
    {
     "data": {
      "text/html": [
       "<div>\n",
       "<style scoped>\n",
       "    .dataframe tbody tr th:only-of-type {\n",
       "        vertical-align: middle;\n",
       "    }\n",
       "\n",
       "    .dataframe tbody tr th {\n",
       "        vertical-align: top;\n",
       "    }\n",
       "\n",
       "    .dataframe thead th {\n",
       "        text-align: right;\n",
       "    }\n",
       "</style>\n",
       "<table border=\"1\" class=\"dataframe\">\n",
       "  <thead>\n",
       "    <tr style=\"text-align: right;\">\n",
       "      <th></th>\n",
       "      <th>comment</th>\n",
       "      <th>Class</th>\n",
       "      <th>Gender</th>\n",
       "    </tr>\n",
       "  </thead>\n",
       "  <tbody>\n",
       "    <tr>\n",
       "      <th>10508</th>\n",
       "      <td>সবই বুঝলাম ভাই। ধন্যবাদ এরকম একটা তথ্যবহুল ভিড...</td>\n",
       "      <td>Not bully</td>\n",
       "      <td>Male</td>\n",
       "    </tr>\n",
       "    <tr>\n",
       "      <th>10509</th>\n",
       "      <td>তারে বেসি কইরা গাইল্লান</td>\n",
       "      <td>Gibe</td>\n",
       "      <td>Male</td>\n",
       "    </tr>\n",
       "    <tr>\n",
       "      <th>10510</th>\n",
       "      <td>মজা পাইলাম</td>\n",
       "      <td>Not bully</td>\n",
       "      <td>Male</td>\n",
       "    </tr>\n",
       "    <tr>\n",
       "      <th>10511</th>\n",
       "      <td>ধরে নিলাম গাড়িটি মিজানুর রহমান আজহারীর। এবং আপ...</td>\n",
       "      <td>Religious</td>\n",
       "      <td>Male</td>\n",
       "    </tr>\n",
       "    <tr>\n",
       "      <th>10512</th>\n",
       "      <td>এজন্যই বলা হয়ে থাকে অল্প বিদ্যা ভয়ংকর। ইসলামী ...</td>\n",
       "      <td>Religious</td>\n",
       "      <td>Male</td>\n",
       "    </tr>\n",
       "  </tbody>\n",
       "</table>\n",
       "</div>"
      ],
      "text/plain": [
       "                                                 comment      Class Gender\n",
       "10508  সবই বুঝলাম ভাই। ধন্যবাদ এরকম একটা তথ্যবহুল ভিড...  Not bully   Male\n",
       "10509                            তারে বেসি কইরা গাইল্লান       Gibe   Male\n",
       "10510                                         মজা পাইলাম  Not bully   Male\n",
       "10511  ধরে নিলাম গাড়িটি মিজানুর রহমান আজহারীর। এবং আপ...  Religious   Male\n",
       "10512  এজন্যই বলা হয়ে থাকে অল্প বিদ্যা ভয়ংকর। ইসলামী ...  Religious   Male"
      ]
     },
     "execution_count": 12,
     "metadata": {},
     "output_type": "execute_result"
    }
   ],
   "source": [
    "def remove_emoji(string):\n",
    "    emoji_pattern  = re.compile(\n",
    "         \"[\"\n",
    "        u\"\\U0001F600-\\U0001F64F\"\n",
    "        u\"\\U0001F300-\\U0001F5FF\"\n",
    "        u\"\\U0001F680-\\U0001F6FF\"\n",
    "        u\"\\U0001F1E0-\\U0001F1FF\"\n",
    "        u\"\\U00002702-\\U00002780\"\n",
    "        u\"\\U000024C2-\\U0001F251\"\n",
    "        \"]+\",\n",
    "        flags = re.UNICODE,\n",
    "          \n",
    "    )\n",
    "    return emoji_pattern.sub(r\"\", string)\n",
    "data['comment'] = data['comment'].apply(lambda string: remove_emoji(string))\n",
    "data.tail()"
   ]
  },
  {
   "cell_type": "code",
   "execution_count": 13,
   "id": "2a8b35ae",
   "metadata": {},
   "outputs": [
    {
     "data": {
      "text/plain": [
       "<AxesSubplot:>"
      ]
     },
     "execution_count": 13,
     "metadata": {},
     "output_type": "execute_result"
    },
    {
     "data": {
      "image/png": "[encoded data removed]",
      "text/plain": [
       "<Figure size 432x288 with 1 Axes>"
      ]
     },
     "metadata": {
      "needs_background": "light"
     },
     "output_type": "display_data"
    }
   ],
   "source": [
    "lens = data.Gender.str.len()\n",
    "lens.hist(bins = np.arange(0,20,5))"
   ]
  },
  {
   "cell_type": "code",
   "execution_count": 14,
   "id": "8db7dc21",
   "metadata": {},
   "outputs": [
    {
     "name": "stdout",
     "output_type": "stream",
     "text": [
      "(10513, 3)\n",
      "comment    object\n",
      "Class       int32\n",
      "Gender      int32\n",
      "dtype: object\n"
     ]
    },
    {
     "data": {
      "text/html": [
       "<div>\n",
       "<style scoped>\n",
       "    .dataframe tbody tr th:only-of-type {\n",
       "        vertical-align: middle;\n",
       "    }\n",
       "\n",
       "    .dataframe tbody tr th {\n",
       "        vertical-align: top;\n",
       "    }\n",
       "\n",
       "    .dataframe thead th {\n",
       "        text-align: right;\n",
       "    }\n",
       "</style>\n",
       "<table border=\"1\" class=\"dataframe\">\n",
       "  <thead>\n",
       "    <tr style=\"text-align: right;\">\n",
       "      <th></th>\n",
       "      <th>comment</th>\n",
       "      <th>Class</th>\n",
       "      <th>Gender</th>\n",
       "    </tr>\n",
       "  </thead>\n",
       "  <tbody>\n",
       "    <tr>\n",
       "      <th>10508</th>\n",
       "      <td>সবই বুঝলাম ভাই। ধন্যবাদ এরকম একটা তথ্যবহুল ভিড...</td>\n",
       "      <td>0</td>\n",
       "      <td>0</td>\n",
       "    </tr>\n",
       "    <tr>\n",
       "      <th>10509</th>\n",
       "      <td>তারে বেসি কইরা গাইল্লান</td>\n",
       "      <td>1</td>\n",
       "      <td>0</td>\n",
       "    </tr>\n",
       "    <tr>\n",
       "      <th>10510</th>\n",
       "      <td>মজা পাইলাম</td>\n",
       "      <td>0</td>\n",
       "      <td>0</td>\n",
       "    </tr>\n",
       "    <tr>\n",
       "      <th>10511</th>\n",
       "      <td>ধরে নিলাম গাড়িটি মিজানুর রহমান আজহারীর। এবং আপ...</td>\n",
       "      <td>1</td>\n",
       "      <td>0</td>\n",
       "    </tr>\n",
       "    <tr>\n",
       "      <th>10512</th>\n",
       "      <td>এজন্যই বলা হয়ে থাকে অল্প বিদ্যা ভয়ংকর। ইসলামী ...</td>\n",
       "      <td>1</td>\n",
       "      <td>0</td>\n",
       "    </tr>\n",
       "  </tbody>\n",
       "</table>\n",
       "</div>"
      ],
      "text/plain": [
       "                                                 comment  Class  Gender\n",
       "10508  সবই বুঝলাম ভাই। ধন্যবাদ এরকম একটা তথ্যবহুল ভিড...      0       0\n",
       "10509                            তারে বেসি কইরা গাইল্লান      1       0\n",
       "10510                                         মজা পাইলাম      0       0\n",
       "10511  ধরে নিলাম গাড়িটি মিজানুর রহমান আজহারীর। এবং আপ...      1       0\n",
       "10512  এজন্যই বলা হয়ে থাকে অল্প বিদ্যা ভয়ংকর। ইসলামী ...      1       0"
      ]
     },
     "execution_count": 14,
     "metadata": {},
     "output_type": "execute_result"
    }
   ],
   "source": [
    "data.loc[:,'Gender'] = data.Class.map({'Male':0, 'Female':1})#labeling\n",
    "data['Gender'] = data['Gender'].fillna(0).astype(int)\n",
    "\n",
    "\n",
    "data.loc[:,'Class'] = data.Class.map({'Not bully':0, 'Gibe':1, 'Religious':1, 'Triggered':1,'Sexual':1})#labeling\n",
    "data['Class'] = data['Class'].fillna(0).astype(int)\n",
    "\n",
    "print(data.shape)\n",
    "print(data.dtypes)\n",
    "data.tail()"
   ]
  },
  {
   "cell_type": "markdown",
   "id": "425adc7a",
   "metadata": {},
   "source": [
    "## Applying Feature Extraction and splitting dataset"
   ]
  },
  {
   "cell_type": "code",
   "execution_count": 15,
   "id": "0950758c",
   "metadata": {},
   "outputs": [],
   "source": [
    "from sklearn.model_selection import train_test_split\n",
    "\n",
    "model = data['comment'].values\n",
    "Class = data['Class'].values\n",
    "model_train, model_test, class_train, class_test = train_test_split(\n",
    "    model, Class, test_size=0.20, random_state=20000)"
   ]
  },
  {
   "cell_type": "code",
   "execution_count": 16,
   "id": "78548a22",
   "metadata": {},
   "outputs": [],
   "source": [
    "from sklearn.feature_extraction.text import TfidfVectorizer\n",
    "vectorizer = TfidfVectorizer()\n",
    "df_tfidf_vect = vectorizer.fit_transform(model_train)"
   ]
  },
  {
   "cell_type": "code",
   "execution_count": 17,
   "id": "f574ac70",
   "metadata": {},
   "outputs": [
    {
     "data": {
      "text/plain": [
       "<8410x2831 sparse matrix of type '<class 'numpy.float64'>'\n",
       "\twith 52238 stored elements in Compressed Sparse Row format>"
      ]
     },
     "execution_count": 17,
     "metadata": {},
     "output_type": "execute_result"
    }
   ],
   "source": [
    "Final_train = vectorizer.fit_transform(model_train)\n",
    "Final_test  = vectorizer.fit_transform(model_test)\n",
    "Final_train "
   ]
  },
  {
   "cell_type": "code",
   "execution_count": 18,
   "id": "6a2cb53e",
   "metadata": {},
   "outputs": [
    {
     "data": {
      "text/plain": [
       "(8410, 2831)"
      ]
     },
     "execution_count": 18,
     "metadata": {},
     "output_type": "execute_result"
    }
   ],
   "source": [
    "Final_train.shape"
   ]
  },
  {
   "cell_type": "code",
   "execution_count": 19,
   "id": "7581e74b",
   "metadata": {},
   "outputs": [
    {
     "data": {
      "text/plain": [
       "(2103, 1338)"
      ]
     },
     "execution_count": 19,
     "metadata": {},
     "output_type": "execute_result"
    }
   ],
   "source": [
    "Final_test.shape"
   ]
  },
  {
   "cell_type": "markdown",
   "id": "ea0e0c64",
   "metadata": {},
   "source": [
    "## Making Pipleline for maximum iteration"
   ]
  },
  {
   "cell_type": "code",
   "execution_count": 20,
   "id": "d1d8f938",
   "metadata": {},
   "outputs": [
    {
     "data": {
      "text/plain": [
       "0.8331747919143876"
      ]
     },
     "execution_count": 20,
     "metadata": {},
     "output_type": "execute_result"
    }
   ],
   "source": [
    "from sklearn.pipeline import make_pipeline\n",
    "from sklearn.pipeline import Pipeline\n",
    "from sklearn.preprocessing import StandardScaler\n",
    "pipe = make_pipeline(StandardScaler(with_mean=False), LogisticRegression(solver = 'lbfgs', max_iter = 10000))\n",
    "pipe.fit(Final_train, class_train)  # apply scaling on training data\n",
    "Pipeline(steps=[('standardscaler', StandardScaler()),('logisticregression', LogisticRegression(solver = 'lbfgs', max_iter = 10000))])\n",
    "pipe.score(Final_train, class_train)"
   ]
  },
  {
   "cell_type": "markdown",
   "id": "430d816d",
   "metadata": {},
   "source": [
    "## Introducing Hybrid Method"
   ]
  },
  {
   "cell_type": "code",
   "execution_count": 21,
   "id": "10786a10",
   "metadata": {},
   "outputs": [],
   "source": [
    "estimators = []"
   ]
  },
  {
   "cell_type": "code",
   "execution_count": 22,
   "id": "1d5d06d8",
   "metadata": {},
   "outputs": [],
   "source": [
    "model11 = LogisticRegression(penalty = 'l2', random_state = 0)\n",
    "estimators.append(('logistic1', model11))\n",
    "model12 = LogisticRegression(penalty = 'l2', random_state = 0)\n",
    "estimators.append(('logistic2', model12))\n",
    "model13 = LogisticRegression(penalty = 'l2', random_state = 0)\n",
    "estimators.append(('logistic3', model13))\n",
    "model14 = LogisticRegression(penalty = 'l2', random_state = 0)\n",
    "estimators.append(('logistic4', model14))\n",
    "model15 = LogisticRegression(penalty = 'l2', random_state = 0)\n",
    "estimators.append(('logistic5', model15))"
   ]
  },
  {
   "cell_type": "code",
   "execution_count": 23,
   "id": "5a0ff8f9",
   "metadata": {},
   "outputs": [],
   "source": [
    "model16 = KNeighborsClassifier(n_neighbors = 7, metric = 'minkowski', p = 2)\n",
    "estimators.append(('knn1', model16))\n",
    "model17 = KNeighborsClassifier(n_neighbors = 7, metric = 'minkowski', p = 2)\n",
    "estimators.append(('knn2', model17))\n",
    "model18 = KNeighborsClassifier(n_neighbors = 7, metric = 'minkowski', p = 2)\n",
    "estimators.append(('knn3', model18))\n",
    "model19 = KNeighborsClassifier(n_neighbors = 7, metric = 'minkowski', p = 2)\n",
    "estimators.append(('knn4', model19))\n",
    "model20 = KNeighborsClassifier(n_neighbors = 7, metric = 'minkowski', p = 2)\n",
    "estimators.append(('knn5', model20))"
   ]
  },
  {
   "cell_type": "code",
   "execution_count": 24,
   "id": "5b647e67",
   "metadata": {},
   "outputs": [],
   "source": [
    "model21 = SVC(kernel = 'linear')\n",
    "estimators.append(('svm1', model21))\n",
    "model22 = SVC(kernel = 'poly')\n",
    "estimators.append(('svm2', model22))\n",
    "model23 = SVC(kernel = 'rbf')\n",
    "estimators.append(('svm3', model23))\n",
    "model24 = SVC(kernel = 'rbf')\n",
    "estimators.append(('svm4', model24))\n",
    "model25 = SVC(kernel = 'linear')\n",
    "estimators.append(('svm5', model25))"
   ]
  },
  {
   "cell_type": "code",
   "execution_count": 25,
   "id": "40194322",
   "metadata": {},
   "outputs": [],
   "source": [
    "from sklearn.ensemble import VotingClassifier\n",
    "ensemble = VotingClassifier(estimators)"
   ]
  },
  {
   "cell_type": "code",
   "execution_count": 26,
   "id": "72adee89",
   "metadata": {},
   "outputs": [],
   "source": [
    "from sklearn import model_selection\n",
    "seed = 7\n",
    "kfold = model_selection.KFold(n_splits=10, random_state=seed, shuffle=True)\n",
    "results = model_selection.cross_val_score(ensemble, Final_train, class_train, cv=kfold)"
   ]
  },
  {
   "cell_type": "code",
   "execution_count": 27,
   "id": "225a8f4f",
   "metadata": {},
   "outputs": [
    {
     "name": "stdout",
     "output_type": "stream",
     "text": [
      "0.8376932223543401\n"
     ]
    }
   ],
   "source": [
    "ensemble.fit(Final_train, class_train)\n",
    "print(ensemble.score(Final_train, class_train))"
   ]
  },
  {
   "cell_type": "code",
   "execution_count": 28,
   "id": "e1f3531b",
   "metadata": {},
   "outputs": [
    {
     "data": {
      "text/plain": [
       "array([[2351, 1013],\n",
       "       [ 352, 4694]], dtype=int64)"
      ]
     },
     "execution_count": 28,
     "metadata": {},
     "output_type": "execute_result"
    }
   ],
   "source": [
    "y_pred = ensemble.predict(Final_train)\n",
    "cm_HybridEnsembler = confusion_matrix(class_train, y_pred)\n",
    "cm_HybridEnsembler"
   ]
  },
  {
   "cell_type": "markdown",
   "id": "f01c8c4c",
   "metadata": {},
   "source": [
    "## Accuracy using Hybrid Ensemble method"
   ]
  },
  {
   "cell_type": "code",
   "execution_count": 29,
   "id": "4c14d29e",
   "metadata": {},
   "outputs": [],
   "source": [
    "seed = 7\n",
    "kfold = model_selection.KFold(n_splits=10, random_state=seed, shuffle=True)\n",
    "results = model_selection.cross_val_score(ensemble, Final_test, class_test, cv=kfold)"
   ]
  },
  {
   "cell_type": "code",
   "execution_count": 30,
   "id": "ee26dbb3",
   "metadata": {},
   "outputs": [
    {
     "name": "stdout",
     "output_type": "stream",
     "text": [
      "0.8487874465049928\n"
     ]
    }
   ],
   "source": [
    "ensemble.fit(Final_test, class_test)\n",
    "print(ensemble.score(Final_test, class_test))"
   ]
  },
  {
   "cell_type": "code",
   "execution_count": 31,
   "id": "ee85b3d3",
   "metadata": {},
   "outputs": [
    {
     "data": {
      "text/plain": [
       "array([[ 569,  265],\n",
       "       [  53, 1216]], dtype=int64)"
      ]
     },
     "execution_count": 31,
     "metadata": {},
     "output_type": "execute_result"
    }
   ],
   "source": [
    "y_pred = ensemble.predict(Final_test)\n",
    "\n",
    "cm_HybridEnsembler = confusion_matrix(class_test, y_pred)\n",
    "cm_HybridEnsembler"
   ]
  },
  {
   "cell_type": "code",
   "execution_count": 32,
   "id": "a19b900d",
   "metadata": {},
   "outputs": [
    {
     "name": "stdout",
     "output_type": "stream",
     "text": [
      "Accuracy score: 0.8487874465049928\n",
      "Precision score: 0.8210668467251857\n",
      "Recall score: 0.9582348305752562\n",
      "F1 score: 0.8843636363636365\n",
      "Confusion matrix: [[ 569  265]\n",
      " [  53 1216]]\n"
     ]
    }
   ],
   "source": [
    "from sklearn.metrics import accuracy_score, precision_score, recall_score, f1_score\n",
    "print('Accuracy score: {}'.format(accuracy_score(class_test, y_pred)))\n",
    "print('Precision score: {}'.format(precision_score(class_test, y_pred)))\n",
    "print('Recall score: {}'.format(recall_score(class_test, y_pred)))\n",
    "print('F1 score: {}'.format(f1_score(class_test, y_pred)))\n",
    "print(\"Confusion matrix:\", cm_HybridEnsembler)"
   ]
  },
  {
   "cell_type": "code",
   "execution_count": null,
   "id": "b12564dc",
   "metadata": {},
   "outputs": [],
   "source": []
  }
 ],
 "metadata": {
  "kernelspec": {
   "display_name": "Python 3 (ipykernel)",
   "language": "python",
   "name": "python3"
  },
  "language_info": {
   "codemirror_mode": {
    "name": "ipython",
    "version": 3
   },
   "file_extension": ".py",
   "mimetype": "text/x-python",
   "name": "python",
   "nbconvert_exporter": "python",
   "pygments_lexer": "ipython3",
   "version": "3.9.7"
  }
 },
 "nbformat": 4,
 "nbformat_minor": 5
}
